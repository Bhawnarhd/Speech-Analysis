{
 "cells": [
  {
   "cell_type": "code",
   "execution_count": 39,
   "metadata": {},
   "outputs": [],
   "source": [
    "import pandas as pd\n",
    "import numpy as np"
   ]
  },
  {
   "cell_type": "code",
   "execution_count": 40,
   "metadata": {},
   "outputs": [],
   "source": [
    "df = pd.read_csv('C:\\\\Users\\\\dell\\\\Datasets\\\\PM_Modi_speeches.csv')"
   ]
  },
  {
   "cell_type": "code",
   "execution_count": 41,
   "metadata": {},
   "outputs": [
    {
     "data": {
      "text/html": [
       "<div>\n",
       "<style scoped>\n",
       "    .dataframe tbody tr th:only-of-type {\n",
       "        vertical-align: middle;\n",
       "    }\n",
       "\n",
       "    .dataframe tbody tr th {\n",
       "        vertical-align: top;\n",
       "    }\n",
       "\n",
       "    .dataframe thead th {\n",
       "        text-align: right;\n",
       "    }\n",
       "</style>\n",
       "<table border=\"1\" class=\"dataframe\">\n",
       "  <thead>\n",
       "    <tr style=\"text-align: right;\">\n",
       "      <th></th>\n",
       "      <th>date</th>\n",
       "      <th>title</th>\n",
       "      <th>url</th>\n",
       "      <th>lang</th>\n",
       "      <th>words</th>\n",
       "      <th>text</th>\n",
       "    </tr>\n",
       "  </thead>\n",
       "  <tbody>\n",
       "    <tr>\n",
       "      <th>0</th>\n",
       "      <td>Aug 30, 2020</td>\n",
       "      <td>PM’s address in the 15th Episode of ‘Mann Ki B...</td>\n",
       "      <td>https://www.pmindia.gov.in/en/news_updates/pms...</td>\n",
       "      <td>en</td>\n",
       "      <td>21619</td>\n",
       "      <td>My dear countrymen, Namaskar.\\nGenerally, this...</td>\n",
       "    </tr>\n",
       "    <tr>\n",
       "      <th>1</th>\n",
       "      <td>Aug 29, 2020</td>\n",
       "      <td>PM’s address at inauguration of the College an...</td>\n",
       "      <td>https://www.pmindia.gov.in/en/news_updates/pms...</td>\n",
       "      <td>en</td>\n",
       "      <td>10128</td>\n",
       "      <td>Our country’s Agriculture Minister Shri Narend...</td>\n",
       "    </tr>\n",
       "    <tr>\n",
       "      <th>2</th>\n",
       "      <td>Aug 27, 2020</td>\n",
       "      <td>PM’s address at seminar on Atmanirbhar Bharat ...</td>\n",
       "      <td>https://www.pmindia.gov.in/en/news_updates/pms...</td>\n",
       "      <td>en</td>\n",
       "      <td>8497</td>\n",
       "      <td>My cabinet colleague, Shri Rajnath ji, Chief o...</td>\n",
       "    </tr>\n",
       "    <tr>\n",
       "      <th>3</th>\n",
       "      <td>Aug 15, 2020</td>\n",
       "      <td>PM’s address to the Nation from the ramparts o...</td>\n",
       "      <td>https://www.pmindia.gov.in/en/news_updates/pms...</td>\n",
       "      <td>en</td>\n",
       "      <td>50260</td>\n",
       "      <td>My dear countrymen,\\nCongratulations and many ...</td>\n",
       "    </tr>\n",
       "    <tr>\n",
       "      <th>4</th>\n",
       "      <td>Aug 13, 2020</td>\n",
       "      <td>PM’s address at the Launch of ‘Transparent Tax...</td>\n",
       "      <td>https://www.pmindia.gov.in/en/news_updates/pms...</td>\n",
       "      <td>en</td>\n",
       "      <td>11908</td>\n",
       "      <td>The process of Structural Reforms going on in ...</td>\n",
       "    </tr>\n",
       "    <tr>\n",
       "      <th>5</th>\n",
       "      <td>Aug 11, 2020</td>\n",
       "      <td>PM’s interaction with CMs to discuss the curre...</td>\n",
       "      <td>https://www.pmindia.gov.in/en/news_updates/pms...</td>\n",
       "      <td>en</td>\n",
       "      <td>6749</td>\n",
       "      <td>Namaskar!\\nHolding discussions with all of you...</td>\n",
       "    </tr>\n",
       "    <tr>\n",
       "      <th>6</th>\n",
       "      <td>Aug 10, 2020</td>\n",
       "      <td>PM’s address at the inauguration of Submarine ...</td>\n",
       "      <td>https://www.pmindia.gov.in/en/news_updates/pms...</td>\n",
       "      <td>en</td>\n",
       "      <td>9751</td>\n",
       "      <td>My greetings to the land of freedom struggle f...</td>\n",
       "    </tr>\n",
       "    <tr>\n",
       "      <th>7</th>\n",
       "      <td>Aug 09, 2020</td>\n",
       "      <td>PM’s address at the launch of Financing Facili...</td>\n",
       "      <td>https://www.pmindia.gov.in/en/news_updates/pms...</td>\n",
       "      <td>en</td>\n",
       "      <td>9986</td>\n",
       "      <td>Today is Hal Shashti, the Birth Anniversary of...</td>\n",
       "    </tr>\n",
       "    <tr>\n",
       "      <th>8</th>\n",
       "      <td>Aug 08, 2020</td>\n",
       "      <td>PM’s address at inauguration of Rashtriya Swac...</td>\n",
       "      <td>https://www.pmindia.gov.in/en/news_updates/pms...</td>\n",
       "      <td>en</td>\n",
       "      <td>8176</td>\n",
       "      <td>Today is a historic day.  This date i.e. 8th A...</td>\n",
       "    </tr>\n",
       "    <tr>\n",
       "      <th>9</th>\n",
       "      <td>Aug 07, 2020</td>\n",
       "      <td>PM’s speech at Higher Education Conclave</td>\n",
       "      <td>https://www.pmindia.gov.in/en/news_updates/pms...</td>\n",
       "      <td>en</td>\n",
       "      <td>13574</td>\n",
       "      <td>Namaskar!\\nI extend greetings to my colleagues...</td>\n",
       "    </tr>\n",
       "  </tbody>\n",
       "</table>\n",
       "</div>"
      ],
      "text/plain": [
       "           date                                              title  \\\n",
       "0  Aug 30, 2020  PM’s address in the 15th Episode of ‘Mann Ki B...   \n",
       "1  Aug 29, 2020  PM’s address at inauguration of the College an...   \n",
       "2  Aug 27, 2020  PM’s address at seminar on Atmanirbhar Bharat ...   \n",
       "3  Aug 15, 2020  PM’s address to the Nation from the ramparts o...   \n",
       "4  Aug 13, 2020  PM’s address at the Launch of ‘Transparent Tax...   \n",
       "5  Aug 11, 2020  PM’s interaction with CMs to discuss the curre...   \n",
       "6  Aug 10, 2020  PM’s address at the inauguration of Submarine ...   \n",
       "7  Aug 09, 2020  PM’s address at the launch of Financing Facili...   \n",
       "8  Aug 08, 2020  PM’s address at inauguration of Rashtriya Swac...   \n",
       "9  Aug 07, 2020           PM’s speech at Higher Education Conclave   \n",
       "\n",
       "                                                 url lang  words  \\\n",
       "0  https://www.pmindia.gov.in/en/news_updates/pms...   en  21619   \n",
       "1  https://www.pmindia.gov.in/en/news_updates/pms...   en  10128   \n",
       "2  https://www.pmindia.gov.in/en/news_updates/pms...   en   8497   \n",
       "3  https://www.pmindia.gov.in/en/news_updates/pms...   en  50260   \n",
       "4  https://www.pmindia.gov.in/en/news_updates/pms...   en  11908   \n",
       "5  https://www.pmindia.gov.in/en/news_updates/pms...   en   6749   \n",
       "6  https://www.pmindia.gov.in/en/news_updates/pms...   en   9751   \n",
       "7  https://www.pmindia.gov.in/en/news_updates/pms...   en   9986   \n",
       "8  https://www.pmindia.gov.in/en/news_updates/pms...   en   8176   \n",
       "9  https://www.pmindia.gov.in/en/news_updates/pms...   en  13574   \n",
       "\n",
       "                                                text  \n",
       "0  My dear countrymen, Namaskar.\\nGenerally, this...  \n",
       "1  Our country’s Agriculture Minister Shri Narend...  \n",
       "2  My cabinet colleague, Shri Rajnath ji, Chief o...  \n",
       "3  My dear countrymen,\\nCongratulations and many ...  \n",
       "4  The process of Structural Reforms going on in ...  \n",
       "5  Namaskar!\\nHolding discussions with all of you...  \n",
       "6  My greetings to the land of freedom struggle f...  \n",
       "7  Today is Hal Shashti, the Birth Anniversary of...  \n",
       "8  Today is a historic day.  This date i.e. 8th A...  \n",
       "9  Namaskar!\\nI extend greetings to my colleagues...  "
      ]
     },
     "execution_count": 41,
     "metadata": {},
     "output_type": "execute_result"
    }
   ],
   "source": [
    "df.head(10)"
   ]
  },
  {
   "cell_type": "code",
   "execution_count": 42,
   "metadata": {},
   "outputs": [
    {
     "data": {
      "text/plain": [
       "(922, 6)"
      ]
     },
     "execution_count": 42,
     "metadata": {},
     "output_type": "execute_result"
    }
   ],
   "source": [
    "df.shape"
   ]
  },
  {
   "cell_type": "code",
   "execution_count": 43,
   "metadata": {},
   "outputs": [
    {
     "data": {
      "text/plain": [
       "5532"
      ]
     },
     "execution_count": 43,
     "metadata": {},
     "output_type": "execute_result"
    }
   ],
   "source": [
    "df.size"
   ]
  },
  {
   "cell_type": "code",
   "execution_count": 44,
   "metadata": {},
   "outputs": [
    {
     "name": "stdout",
     "output_type": "stream",
     "text": [
      "<class 'pandas.core.frame.DataFrame'>\n",
      "RangeIndex: 922 entries, 0 to 921\n",
      "Data columns (total 6 columns):\n",
      " #   Column  Non-Null Count  Dtype \n",
      "---  ------  --------------  ----- \n",
      " 0   date    922 non-null    object\n",
      " 1   title   922 non-null    object\n",
      " 2   url     922 non-null    object\n",
      " 3   lang    922 non-null    object\n",
      " 4   words   922 non-null    int64 \n",
      " 5   text    922 non-null    object\n",
      "dtypes: int64(1), object(5)\n",
      "memory usage: 43.3+ KB\n"
     ]
    }
   ],
   "source": [
    "df.info()"
   ]
  },
  {
   "cell_type": "code",
   "execution_count": 45,
   "metadata": {},
   "outputs": [
    {
     "data": {
      "text/plain": [
       "date     0\n",
       "title    0\n",
       "url      0\n",
       "lang     0\n",
       "words    0\n",
       "text     0\n",
       "dtype: int64"
      ]
     },
     "execution_count": 45,
     "metadata": {},
     "output_type": "execute_result"
    }
   ],
   "source": [
    "df.isnull().sum()"
   ]
  },
  {
   "cell_type": "code",
   "execution_count": 46,
   "metadata": {},
   "outputs": [
    {
     "data": {
      "text/html": [
       "<div>\n",
       "<style scoped>\n",
       "    .dataframe tbody tr th:only-of-type {\n",
       "        vertical-align: middle;\n",
       "    }\n",
       "\n",
       "    .dataframe tbody tr th {\n",
       "        vertical-align: top;\n",
       "    }\n",
       "\n",
       "    .dataframe thead th {\n",
       "        text-align: right;\n",
       "    }\n",
       "</style>\n",
       "<table border=\"1\" class=\"dataframe\">\n",
       "  <thead>\n",
       "    <tr style=\"text-align: right;\">\n",
       "      <th></th>\n",
       "      <th>words</th>\n",
       "    </tr>\n",
       "  </thead>\n",
       "  <tbody>\n",
       "    <tr>\n",
       "      <th>count</th>\n",
       "      <td>922.000000</td>\n",
       "    </tr>\n",
       "    <tr>\n",
       "      <th>mean</th>\n",
       "      <td>12374.189805</td>\n",
       "    </tr>\n",
       "    <tr>\n",
       "      <th>std</th>\n",
       "      <td>8891.662434</td>\n",
       "    </tr>\n",
       "    <tr>\n",
       "      <th>min</th>\n",
       "      <td>753.000000</td>\n",
       "    </tr>\n",
       "    <tr>\n",
       "      <th>25%</th>\n",
       "      <td>5560.000000</td>\n",
       "    </tr>\n",
       "    <tr>\n",
       "      <th>50%</th>\n",
       "      <td>10660.500000</td>\n",
       "    </tr>\n",
       "    <tr>\n",
       "      <th>75%</th>\n",
       "      <td>16476.500000</td>\n",
       "    </tr>\n",
       "    <tr>\n",
       "      <th>max</th>\n",
       "      <td>74199.000000</td>\n",
       "    </tr>\n",
       "  </tbody>\n",
       "</table>\n",
       "</div>"
      ],
      "text/plain": [
       "              words\n",
       "count    922.000000\n",
       "mean   12374.189805\n",
       "std     8891.662434\n",
       "min      753.000000\n",
       "25%     5560.000000\n",
       "50%    10660.500000\n",
       "75%    16476.500000\n",
       "max    74199.000000"
      ]
     },
     "execution_count": 46,
     "metadata": {},
     "output_type": "execute_result"
    }
   ],
   "source": [
    "df.describe()"
   ]
  },
  {
   "cell_type": "code",
   "execution_count": 47,
   "metadata": {},
   "outputs": [
    {
     "data": {
      "text/html": [
       "<div>\n",
       "<style scoped>\n",
       "    .dataframe tbody tr th:only-of-type {\n",
       "        vertical-align: middle;\n",
       "    }\n",
       "\n",
       "    .dataframe tbody tr th {\n",
       "        vertical-align: top;\n",
       "    }\n",
       "\n",
       "    .dataframe thead th {\n",
       "        text-align: right;\n",
       "    }\n",
       "</style>\n",
       "<table border=\"1\" class=\"dataframe\">\n",
       "  <thead>\n",
       "    <tr style=\"text-align: right;\">\n",
       "      <th></th>\n",
       "      <th>date</th>\n",
       "      <th>title</th>\n",
       "      <th>text</th>\n",
       "    </tr>\n",
       "  </thead>\n",
       "  <tbody>\n",
       "    <tr>\n",
       "      <th>0</th>\n",
       "      <td>Aug 30, 2020</td>\n",
       "      <td>PM’s address in the 15th Episode of ‘Mann Ki B...</td>\n",
       "      <td>My dear countrymen, Namaskar.\\nGenerally, this...</td>\n",
       "    </tr>\n",
       "    <tr>\n",
       "      <th>1</th>\n",
       "      <td>Aug 29, 2020</td>\n",
       "      <td>PM’s address at inauguration of the College an...</td>\n",
       "      <td>Our country’s Agriculture Minister Shri Narend...</td>\n",
       "    </tr>\n",
       "    <tr>\n",
       "      <th>2</th>\n",
       "      <td>Aug 27, 2020</td>\n",
       "      <td>PM’s address at seminar on Atmanirbhar Bharat ...</td>\n",
       "      <td>My cabinet colleague, Shri Rajnath ji, Chief o...</td>\n",
       "    </tr>\n",
       "    <tr>\n",
       "      <th>3</th>\n",
       "      <td>Aug 15, 2020</td>\n",
       "      <td>PM’s address to the Nation from the ramparts o...</td>\n",
       "      <td>My dear countrymen,\\nCongratulations and many ...</td>\n",
       "    </tr>\n",
       "    <tr>\n",
       "      <th>4</th>\n",
       "      <td>Aug 13, 2020</td>\n",
       "      <td>PM’s address at the Launch of ‘Transparent Tax...</td>\n",
       "      <td>The process of Structural Reforms going on in ...</td>\n",
       "    </tr>\n",
       "  </tbody>\n",
       "</table>\n",
       "</div>"
      ],
      "text/plain": [
       "           date                                              title  \\\n",
       "0  Aug 30, 2020  PM’s address in the 15th Episode of ‘Mann Ki B...   \n",
       "1  Aug 29, 2020  PM’s address at inauguration of the College an...   \n",
       "2  Aug 27, 2020  PM’s address at seminar on Atmanirbhar Bharat ...   \n",
       "3  Aug 15, 2020  PM’s address to the Nation from the ramparts o...   \n",
       "4  Aug 13, 2020  PM’s address at the Launch of ‘Transparent Tax...   \n",
       "\n",
       "                                                text  \n",
       "0  My dear countrymen, Namaskar.\\nGenerally, this...  \n",
       "1  Our country’s Agriculture Minister Shri Narend...  \n",
       "2  My cabinet colleague, Shri Rajnath ji, Chief o...  \n",
       "3  My dear countrymen,\\nCongratulations and many ...  \n",
       "4  The process of Structural Reforms going on in ...  "
      ]
     },
     "execution_count": 47,
     "metadata": {},
     "output_type": "execute_result"
    }
   ],
   "source": [
    "df.drop([\"url\",\"lang\",\"words\"], axis = 1, inplace = True)\n",
    "df.head()"
   ]
  },
  {
   "cell_type": "code",
   "execution_count": 48,
   "metadata": {},
   "outputs": [],
   "source": [
    "import nltk\n",
    "import string\n",
    "import re"
   ]
  },
  {
   "cell_type": "code",
   "execution_count": 49,
   "metadata": {},
   "outputs": [
    {
     "name": "stdout",
     "output_type": "stream",
     "text": [
      "Requirement already satisfied: wordcloud in c:\\users\\dell\\anaconda3\\lib\\site-packages (1.8.1)\n",
      "Requirement already satisfied: numpy>=1.6.1 in c:\\users\\dell\\anaconda3\\lib\\site-packages (from wordcloud) (1.19.2)\n",
      "Requirement already satisfied: matplotlib in c:\\users\\dell\\anaconda3\\lib\\site-packages (from wordcloud) (3.2.2)\n",
      "Requirement already satisfied: pillow in c:\\users\\dell\\anaconda3\\lib\\site-packages (from wordcloud) (7.2.0)\n",
      "Requirement already satisfied: python-dateutil>=2.1 in c:\\users\\dell\\anaconda3\\lib\\site-packages (from matplotlib->wordcloud) (2.8.1)\n",
      "Requirement already satisfied: kiwisolver>=1.0.1 in c:\\users\\dell\\anaconda3\\lib\\site-packages (from matplotlib->wordcloud) (1.2.0)\n",
      "Requirement already satisfied: cycler>=0.10 in c:\\users\\dell\\anaconda3\\lib\\site-packages (from matplotlib->wordcloud) (0.10.0)\n",
      "Requirement already satisfied: pyparsing!=2.0.4,!=2.1.2,!=2.1.6,>=2.0.1 in c:\\users\\dell\\anaconda3\\lib\\site-packages (from matplotlib->wordcloud) (2.4.7)\n",
      "Requirement already satisfied: six>=1.5 in c:\\users\\dell\\anaconda3\\lib\\site-packages (from python-dateutil>=2.1->matplotlib->wordcloud) (1.15.0)\n"
     ]
    }
   ],
   "source": [
    "!pip install wordcloud"
   ]
  },
  {
   "cell_type": "code",
   "execution_count": 50,
   "metadata": {},
   "outputs": [
    {
     "name": "stdout",
     "output_type": "stream",
     "text": [
      "Requirement already satisfied: stop-words in c:\\users\\dell\\anaconda3\\lib\\site-packages (2018.7.23)\n"
     ]
    }
   ],
   "source": [
    "!pip install stop-words"
   ]
  },
  {
   "cell_type": "code",
   "execution_count": 51,
   "metadata": {},
   "outputs": [
    {
     "name": "stderr",
     "output_type": "stream",
     "text": [
      "[nltk_data] Downloading package stopwords to\n",
      "[nltk_data]     C:\\Users\\dell\\AppData\\Roaming\\nltk_data...\n",
      "[nltk_data]   Package stopwords is already up-to-date!\n"
     ]
    },
    {
     "data": {
      "text/plain": [
       "True"
      ]
     },
     "execution_count": 51,
     "metadata": {},
     "output_type": "execute_result"
    }
   ],
   "source": [
    "import nltk\n",
    "nltk.download('stopwords')"
   ]
  },
  {
   "cell_type": "code",
   "execution_count": 52,
   "metadata": {},
   "outputs": [],
   "source": [
    "import matplotlib.pyplot as plt\n",
    "%matplotlib inline  \n",
    "import nltk\n",
    "import wordcloud\n",
    "import seaborn as sns\n",
    "from wordcloud import WordCloud, STOPWORDS\n",
    "from nltk.corpus import stopwords\n",
    "from stop_words import get_stop_words"
   ]
  },
  {
   "cell_type": "code",
   "execution_count": 53,
   "metadata": {},
   "outputs": [
    {
     "name": "stderr",
     "output_type": "stream",
     "text": [
      "[nltk_data] Downloading package punkt to\n",
      "[nltk_data]     C:\\Users\\dell\\AppData\\Roaming\\nltk_data...\n",
      "[nltk_data]   Package punkt is already up-to-date!\n"
     ]
    },
    {
     "data": {
      "text/plain": [
       "True"
      ]
     },
     "execution_count": 53,
     "metadata": {},
     "output_type": "execute_result"
    }
   ],
   "source": [
    "from nltk import word_tokenize\n",
    "nltk.download('punkt')"
   ]
  },
  {
   "cell_type": "code",
   "execution_count": 54,
   "metadata": {},
   "outputs": [
    {
     "data": {
      "image/png": "[encoded data removed]",
      "text/plain": [
       "<Figure size 720x720 with 1 Axes>"
      ]
     },
     "metadata": {
      "needs_background": "light"
     },
     "output_type": "display_data"
    }
   ],
   "source": [
    "#Title Analysis\n",
    "\n",
    "top_Num = 200\n",
    "\n",
    "a = df['title'].str.lower().str.cat(sep=' ')\n",
    "\n",
    "# removes punctuation\n",
    "b = re.sub('[^A-Za-z]+', ' ', a)\n",
    "\n",
    "#remove all the stopwords from the text\n",
    "stop_words = get_stop_words('en')        \n",
    "nltk_words = stopwords.words('english')   \n",
    "stop_words.extend(nltk_words)\n",
    "\n",
    "\n",
    "word_tokens = word_tokenize(b)\n",
    "filtered_sentence = [w for w in word_tokens if not w in stop_words]\n",
    "filtered_sentence = []\n",
    "for w in word_tokens:\n",
    "    if w not in stop_words:\n",
    "        filtered_sentence.append(w)\n",
    "\n",
    "without_single_chr = [word for word in filtered_sentence if len(word) > 2]\n",
    "\n",
    "# Remove numbers\n",
    "cleaned_data_title = [word for word in without_single_chr if not word.isnumeric()]        \n",
    "\n",
    "\n",
    "word_dist = nltk.FreqDist(cleaned_data_title)\n",
    "rslt = pd.DataFrame(word_dist.most_common(top_Num),\n",
    "                    columns=['Word', 'Frequency'])\n",
    "\n",
    "plt.figure(figsize=(10,10))\n",
    "sns.set_style(\"whitegrid\")\n",
    "ax = sns.barplot(x=\"Word\",y=\"Frequency\", data=rslt.head(10))"
   ]
  },
  {
   "cell_type": "code",
   "execution_count": 55,
   "metadata": {},
   "outputs": [
    {
     "data": {
      "image/png": "[encoded data removed]",
      "text/plain": [
       "<Figure size 720x720 with 1 Axes>"
      ]
     },
     "metadata": {},
     "output_type": "display_data"
    }
   ],
   "source": [
    "#Text Analysis\n",
    "\n",
    "top_Num1 = 150\n",
    "\n",
    "a1 = df['text'].str.lower().str.cat(sep=' ')\n",
    "\n",
    "# removes punctuation\n",
    "b1 = re.sub('[^A-Za-z]+', ' ', a1)\n",
    "\n",
    "#remove all the stopwords from the text\n",
    "stop_words1 = get_stop_words('en')        \n",
    "nltk_words1 = stopwords.words('english')   \n",
    "stop_words1.extend(nltk_words)\n",
    "\n",
    "\n",
    "word_tokens1 = word_tokenize(b1)\n",
    "filtered_sentence1 = [w for w in word_tokens1 if not w in stop_words1]\n",
    "filtered_sentence1 = []\n",
    "for w in word_tokens1:\n",
    "    if w not in stop_words1:\n",
    "        filtered_sentence1.append(w)\n",
    "\n",
    "without_single_chr1 = [word for word in filtered_sentence1 if len(word) > 2]\n",
    "\n",
    "# Remove numbers\n",
    "cleaned_data_title1 = [word for word in without_single_chr1 if not word.isnumeric()]        \n",
    "\n",
    "\n",
    "word_dist1 = nltk.FreqDist(cleaned_data_title1)\n",
    "rslt1 = pd.DataFrame(word_dist1.most_common(top_Num1),\n",
    "                    columns=['Word', 'Frequency'])\n",
    "\n",
    "plt.figure(figsize=(10,10))\n",
    "sns.set_style(\"whitegrid\")\n",
    "ax = sns.barplot(x=\"Word\",y=\"Frequency\", data=rslt.head(10))"
   ]
  },
  {
   "cell_type": "markdown",
   "metadata": {},
   "source": [
    "## Past 50 Speeches"
   ]
  },
  {
   "cell_type": "code",
   "execution_count": 56,
   "metadata": {},
   "outputs": [
    {
     "data": {
      "text/html": [
       "<div>\n",
       "<style scoped>\n",
       "    .dataframe tbody tr th:only-of-type {\n",
       "        vertical-align: middle;\n",
       "    }\n",
       "\n",
       "    .dataframe tbody tr th {\n",
       "        vertical-align: top;\n",
       "    }\n",
       "\n",
       "    .dataframe thead th {\n",
       "        text-align: right;\n",
       "    }\n",
       "</style>\n",
       "<table border=\"1\" class=\"dataframe\">\n",
       "  <thead>\n",
       "    <tr style=\"text-align: right;\">\n",
       "      <th></th>\n",
       "      <th>date</th>\n",
       "      <th>title</th>\n",
       "      <th>text</th>\n",
       "    </tr>\n",
       "  </thead>\n",
       "  <tbody>\n",
       "    <tr>\n",
       "      <th>0</th>\n",
       "      <td>Aug 30, 2020</td>\n",
       "      <td>PM’s address in the 15th Episode of ‘Mann Ki B...</td>\n",
       "      <td>My dear countrymen, Namaskar.\\nGenerally, this...</td>\n",
       "    </tr>\n",
       "    <tr>\n",
       "      <th>1</th>\n",
       "      <td>Aug 29, 2020</td>\n",
       "      <td>PM’s address at inauguration of the College an...</td>\n",
       "      <td>Our country’s Agriculture Minister Shri Narend...</td>\n",
       "    </tr>\n",
       "    <tr>\n",
       "      <th>2</th>\n",
       "      <td>Aug 27, 2020</td>\n",
       "      <td>PM’s address at seminar on Atmanirbhar Bharat ...</td>\n",
       "      <td>My cabinet colleague, Shri Rajnath ji, Chief o...</td>\n",
       "    </tr>\n",
       "    <tr>\n",
       "      <th>3</th>\n",
       "      <td>Aug 15, 2020</td>\n",
       "      <td>PM’s address to the Nation from the ramparts o...</td>\n",
       "      <td>My dear countrymen,\\nCongratulations and many ...</td>\n",
       "    </tr>\n",
       "    <tr>\n",
       "      <th>4</th>\n",
       "      <td>Aug 13, 2020</td>\n",
       "      <td>PM’s address at the Launch of ‘Transparent Tax...</td>\n",
       "      <td>The process of Structural Reforms going on in ...</td>\n",
       "    </tr>\n",
       "  </tbody>\n",
       "</table>\n",
       "</div>"
      ],
      "text/plain": [
       "           date                                              title  \\\n",
       "0  Aug 30, 2020  PM’s address in the 15th Episode of ‘Mann Ki B...   \n",
       "1  Aug 29, 2020  PM’s address at inauguration of the College an...   \n",
       "2  Aug 27, 2020  PM’s address at seminar on Atmanirbhar Bharat ...   \n",
       "3  Aug 15, 2020  PM’s address to the Nation from the ramparts o...   \n",
       "4  Aug 13, 2020  PM’s address at the Launch of ‘Transparent Tax...   \n",
       "\n",
       "                                                text  \n",
       "0  My dear countrymen, Namaskar.\\nGenerally, this...  \n",
       "1  Our country’s Agriculture Minister Shri Narend...  \n",
       "2  My cabinet colleague, Shri Rajnath ji, Chief o...  \n",
       "3  My dear countrymen,\\nCongratulations and many ...  \n",
       "4  The process of Structural Reforms going on in ...  "
      ]
     },
     "execution_count": 56,
     "metadata": {},
     "output_type": "execute_result"
    }
   ],
   "source": [
    "df_50 = df.head(50)\n",
    "df_50.head()"
   ]
  },
  {
   "cell_type": "code",
   "execution_count": 57,
   "metadata": {},
   "outputs": [],
   "source": [
    "l1 = df_50['text']\n",
    "\n",
    "series = pd.Series(l1) \n",
    "\n",
    "economy_Count = series.str.count(\"economy\")\n",
    "Economy_Count = series.str.count(\"Economy\")"
   ]
  },
  {
   "cell_type": "code",
   "execution_count": 58,
   "metadata": {},
   "outputs": [
    {
     "data": {
      "text/plain": [
       "49"
      ]
     },
     "execution_count": 58,
     "metadata": {},
     "output_type": "execute_result"
    }
   ],
   "source": [
    "economy_Count.aggregate(sum)"
   ]
  },
  {
   "cell_type": "code",
   "execution_count": 59,
   "metadata": {},
   "outputs": [
    {
     "data": {
      "text/plain": [
       "6"
      ]
     },
     "execution_count": 59,
     "metadata": {},
     "output_type": "execute_result"
    }
   ],
   "source": [
    "Economy_Count.aggregate(sum)"
   ]
  },
  {
   "cell_type": "code",
   "execution_count": 60,
   "metadata": {},
   "outputs": [
    {
     "data": {
      "text/html": [
       "<div>\n",
       "<style scoped>\n",
       "    .dataframe tbody tr th:only-of-type {\n",
       "        vertical-align: middle;\n",
       "    }\n",
       "\n",
       "    .dataframe tbody tr th {\n",
       "        vertical-align: top;\n",
       "    }\n",
       "\n",
       "    .dataframe thead th {\n",
       "        text-align: right;\n",
       "    }\n",
       "</style>\n",
       "<table border=\"1\" class=\"dataframe\">\n",
       "  <thead>\n",
       "    <tr style=\"text-align: right;\">\n",
       "      <th></th>\n",
       "      <th>date</th>\n",
       "      <th>text</th>\n",
       "    </tr>\n",
       "  </thead>\n",
       "  <tbody>\n",
       "    <tr>\n",
       "      <th>0</th>\n",
       "      <td>Aug 30, 2020</td>\n",
       "      <td>1</td>\n",
       "    </tr>\n",
       "    <tr>\n",
       "      <th>1</th>\n",
       "      <td>Aug 29, 2020</td>\n",
       "      <td>1</td>\n",
       "    </tr>\n",
       "    <tr>\n",
       "      <th>2</th>\n",
       "      <td>Aug 27, 2020</td>\n",
       "      <td>1</td>\n",
       "    </tr>\n",
       "    <tr>\n",
       "      <th>3</th>\n",
       "      <td>Aug 15, 2020</td>\n",
       "      <td>5</td>\n",
       "    </tr>\n",
       "    <tr>\n",
       "      <th>4</th>\n",
       "      <td>Aug 13, 2020</td>\n",
       "      <td>0</td>\n",
       "    </tr>\n",
       "    <tr>\n",
       "      <th>5</th>\n",
       "      <td>Aug 11, 2020</td>\n",
       "      <td>0</td>\n",
       "    </tr>\n",
       "    <tr>\n",
       "      <th>6</th>\n",
       "      <td>Aug 10, 2020</td>\n",
       "      <td>1</td>\n",
       "    </tr>\n",
       "    <tr>\n",
       "      <th>7</th>\n",
       "      <td>Aug 09, 2020</td>\n",
       "      <td>2</td>\n",
       "    </tr>\n",
       "    <tr>\n",
       "      <th>8</th>\n",
       "      <td>Aug 08, 2020</td>\n",
       "      <td>0</td>\n",
       "    </tr>\n",
       "    <tr>\n",
       "      <th>9</th>\n",
       "      <td>Aug 07, 2020</td>\n",
       "      <td>0</td>\n",
       "    </tr>\n",
       "  </tbody>\n",
       "</table>\n",
       "</div>"
      ],
      "text/plain": [
       "           date  text\n",
       "0  Aug 30, 2020     1\n",
       "1  Aug 29, 2020     1\n",
       "2  Aug 27, 2020     1\n",
       "3  Aug 15, 2020     5\n",
       "4  Aug 13, 2020     0\n",
       "5  Aug 11, 2020     0\n",
       "6  Aug 10, 2020     1\n",
       "7  Aug 09, 2020     2\n",
       "8  Aug 08, 2020     0\n",
       "9  Aug 07, 2020     0"
      ]
     },
     "execution_count": 60,
     "metadata": {},
     "output_type": "execute_result"
    }
   ],
   "source": [
    "economy_Count = pd.concat([df_50['date'], economy_Count], axis = 1)\n",
    "economy_Count.head(10)"
   ]
  },
  {
   "cell_type": "code",
   "execution_count": 61,
   "metadata": {},
   "outputs": [
    {
     "data": {
      "text/html": [
       "<div>\n",
       "<style scoped>\n",
       "    .dataframe tbody tr th:only-of-type {\n",
       "        vertical-align: middle;\n",
       "    }\n",
       "\n",
       "    .dataframe tbody tr th {\n",
       "        vertical-align: top;\n",
       "    }\n",
       "\n",
       "    .dataframe thead th {\n",
       "        text-align: right;\n",
       "    }\n",
       "</style>\n",
       "<table border=\"1\" class=\"dataframe\">\n",
       "  <thead>\n",
       "    <tr style=\"text-align: right;\">\n",
       "      <th></th>\n",
       "      <th>text</th>\n",
       "    </tr>\n",
       "    <tr>\n",
       "      <th>date</th>\n",
       "      <th></th>\n",
       "    </tr>\n",
       "  </thead>\n",
       "  <tbody>\n",
       "    <tr>\n",
       "      <th>Aug 30, 2020</th>\n",
       "      <td>1</td>\n",
       "    </tr>\n",
       "    <tr>\n",
       "      <th>Aug 29, 2020</th>\n",
       "      <td>1</td>\n",
       "    </tr>\n",
       "    <tr>\n",
       "      <th>Aug 27, 2020</th>\n",
       "      <td>1</td>\n",
       "    </tr>\n",
       "    <tr>\n",
       "      <th>Aug 15, 2020</th>\n",
       "      <td>5</td>\n",
       "    </tr>\n",
       "    <tr>\n",
       "      <th>Aug 13, 2020</th>\n",
       "      <td>0</td>\n",
       "    </tr>\n",
       "  </tbody>\n",
       "</table>\n",
       "</div>"
      ],
      "text/plain": [
       "              text\n",
       "date              \n",
       "Aug 30, 2020     1\n",
       "Aug 29, 2020     1\n",
       "Aug 27, 2020     1\n",
       "Aug 15, 2020     5\n",
       "Aug 13, 2020     0"
      ]
     },
     "execution_count": 61,
     "metadata": {},
     "output_type": "execute_result"
    }
   ],
   "source": [
    "economy_Count = economy_Count.set_index(\"date\")\n",
    "economy_Count.head(5)"
   ]
  },
  {
   "cell_type": "code",
   "execution_count": 62,
   "metadata": {},
   "outputs": [
    {
     "data": {
      "image/png": "[encoded data removed]",
      "text/plain": [
       "<Figure size 1080x360 with 1 Axes>"
      ]
     },
     "metadata": {},
     "output_type": "display_data"
    }
   ],
   "source": [
    "fig, ax = plt.subplots(figsize=(15, 5))\n",
    "\n",
    "ax.bar(economy_Count.index.values,\n",
    "        economy_Count['text'],\n",
    "        color='Green')\n",
    "\n",
    "# Set title \n",
    "ax.set(xlabel=\"Date\",\n",
    "       ylabel=\"Frequency\",\n",
    "       title=\"word count of economy\")\n",
    "\n",
    "plt.setp(ax.get_xticklabels(), rotation=50)\n",
    "\n",
    "plt.show()"
   ]
  },
  {
   "cell_type": "code",
   "execution_count": 63,
   "metadata": {},
   "outputs": [
    {
     "data": {
      "text/html": [
       "<div>\n",
       "<style scoped>\n",
       "    .dataframe tbody tr th:only-of-type {\n",
       "        vertical-align: middle;\n",
       "    }\n",
       "\n",
       "    .dataframe tbody tr th {\n",
       "        vertical-align: top;\n",
       "    }\n",
       "\n",
       "    .dataframe thead th {\n",
       "        text-align: right;\n",
       "    }\n",
       "</style>\n",
       "<table border=\"1\" class=\"dataframe\">\n",
       "  <thead>\n",
       "    <tr style=\"text-align: right;\">\n",
       "      <th></th>\n",
       "      <th>date</th>\n",
       "      <th>text</th>\n",
       "    </tr>\n",
       "  </thead>\n",
       "  <tbody>\n",
       "    <tr>\n",
       "      <th>0</th>\n",
       "      <td>Aug 30, 2020</td>\n",
       "      <td>0</td>\n",
       "    </tr>\n",
       "    <tr>\n",
       "      <th>1</th>\n",
       "      <td>Aug 29, 2020</td>\n",
       "      <td>0</td>\n",
       "    </tr>\n",
       "    <tr>\n",
       "      <th>2</th>\n",
       "      <td>Aug 27, 2020</td>\n",
       "      <td>0</td>\n",
       "    </tr>\n",
       "    <tr>\n",
       "      <th>3</th>\n",
       "      <td>Aug 15, 2020</td>\n",
       "      <td>0</td>\n",
       "    </tr>\n",
       "    <tr>\n",
       "      <th>4</th>\n",
       "      <td>Aug 13, 2020</td>\n",
       "      <td>0</td>\n",
       "    </tr>\n",
       "    <tr>\n",
       "      <th>5</th>\n",
       "      <td>Aug 11, 2020</td>\n",
       "      <td>0</td>\n",
       "    </tr>\n",
       "    <tr>\n",
       "      <th>6</th>\n",
       "      <td>Aug 10, 2020</td>\n",
       "      <td>1</td>\n",
       "    </tr>\n",
       "    <tr>\n",
       "      <th>7</th>\n",
       "      <td>Aug 09, 2020</td>\n",
       "      <td>0</td>\n",
       "    </tr>\n",
       "    <tr>\n",
       "      <th>8</th>\n",
       "      <td>Aug 08, 2020</td>\n",
       "      <td>0</td>\n",
       "    </tr>\n",
       "    <tr>\n",
       "      <th>9</th>\n",
       "      <td>Aug 07, 2020</td>\n",
       "      <td>0</td>\n",
       "    </tr>\n",
       "  </tbody>\n",
       "</table>\n",
       "</div>"
      ],
      "text/plain": [
       "           date  text\n",
       "0  Aug 30, 2020     0\n",
       "1  Aug 29, 2020     0\n",
       "2  Aug 27, 2020     0\n",
       "3  Aug 15, 2020     0\n",
       "4  Aug 13, 2020     0\n",
       "5  Aug 11, 2020     0\n",
       "6  Aug 10, 2020     1\n",
       "7  Aug 09, 2020     0\n",
       "8  Aug 08, 2020     0\n",
       "9  Aug 07, 2020     0"
      ]
     },
     "execution_count": 63,
     "metadata": {},
     "output_type": "execute_result"
    }
   ],
   "source": [
    "Economy_Count = pd.concat([df_50['date'], Economy_Count], axis = 1)\n",
    "Economy_Count.head(10)"
   ]
  },
  {
   "cell_type": "code",
   "execution_count": 64,
   "metadata": {},
   "outputs": [
    {
     "data": {
      "text/html": [
       "<div>\n",
       "<style scoped>\n",
       "    .dataframe tbody tr th:only-of-type {\n",
       "        vertical-align: middle;\n",
       "    }\n",
       "\n",
       "    .dataframe tbody tr th {\n",
       "        vertical-align: top;\n",
       "    }\n",
       "\n",
       "    .dataframe thead th {\n",
       "        text-align: right;\n",
       "    }\n",
       "</style>\n",
       "<table border=\"1\" class=\"dataframe\">\n",
       "  <thead>\n",
       "    <tr style=\"text-align: right;\">\n",
       "      <th></th>\n",
       "      <th>text</th>\n",
       "    </tr>\n",
       "    <tr>\n",
       "      <th>date</th>\n",
       "      <th></th>\n",
       "    </tr>\n",
       "  </thead>\n",
       "  <tbody>\n",
       "    <tr>\n",
       "      <th>Aug 30, 2020</th>\n",
       "      <td>0</td>\n",
       "    </tr>\n",
       "    <tr>\n",
       "      <th>Aug 29, 2020</th>\n",
       "      <td>0</td>\n",
       "    </tr>\n",
       "    <tr>\n",
       "      <th>Aug 27, 2020</th>\n",
       "      <td>0</td>\n",
       "    </tr>\n",
       "    <tr>\n",
       "      <th>Aug 15, 2020</th>\n",
       "      <td>0</td>\n",
       "    </tr>\n",
       "    <tr>\n",
       "      <th>Aug 13, 2020</th>\n",
       "      <td>0</td>\n",
       "    </tr>\n",
       "  </tbody>\n",
       "</table>\n",
       "</div>"
      ],
      "text/plain": [
       "              text\n",
       "date              \n",
       "Aug 30, 2020     0\n",
       "Aug 29, 2020     0\n",
       "Aug 27, 2020     0\n",
       "Aug 15, 2020     0\n",
       "Aug 13, 2020     0"
      ]
     },
     "execution_count": 64,
     "metadata": {},
     "output_type": "execute_result"
    }
   ],
   "source": [
    "Economy_Count = Economy_Count.set_index(\"date\")\n",
    "Economy_Count.head(5)"
   ]
  },
  {
   "cell_type": "code",
   "execution_count": 66,
   "metadata": {},
   "outputs": [
    {
     "data": {
      "image/png": "[encoded data removed]",
      "text/plain": [
       "<Figure size 1080x360 with 1 Axes>"
      ]
     },
     "metadata": {},
     "output_type": "display_data"
    }
   ],
   "source": [
    "fig, ax = plt.subplots(figsize=(15, 5))\n",
    "\n",
    "ax.bar(Economy_Count.index.values,\n",
    "        Economy_Count['text'],\n",
    "        color='Green')\n",
    "\n",
    "# Set title \n",
    "ax.set(xlabel=\"Date\",\n",
    "       ylabel=\"Frequency\",\n",
    "       title=\"word count of economy\")\n",
    "\n",
    "plt.setp(ax.get_xticklabels(), rotation=50)\n",
    "\n",
    "plt.show()"
   ]
  },
  {
   "cell_type": "code",
   "execution_count": null,
   "metadata": {},
   "outputs": [],
   "source": []
  }
 ],
 "metadata": {
  "kernelspec": {
   "display_name": "Python 3",
   "language": "python",
   "name": "python3"
  },
  "language_info": {
   "codemirror_mode": {
    "name": "ipython",
    "version": 3
   },
   "file_extension": ".py",
   "mimetype": "text/x-python",
   "name": "python",
   "nbconvert_exporter": "python",
   "pygments_lexer": "ipython3",
   "version": "3.8.3"
  }
 },
 "nbformat": 4,
 "nbformat_minor": 4
}
